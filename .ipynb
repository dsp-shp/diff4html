{
 "cells": [
  {
   "cell_type": "code",
   "execution_count": 1,
   "id": "924a4b15-5f4a-4ba3-8c67-3410b1f14c15",
   "metadata": {},
   "outputs": [],
   "source": [
    "from lxml import html\n",
    "from diff4html.html import lxml2json, json2lxml, prepare,HtmlTag\n",
    "import re\n",
    "import json\n",
    "import requests"
   ]
  },
  {
   "cell_type": "code",
   "execution_count": 7,
   "id": "dea58fec-e2a2-435f-b254-8f1ed7035a4c",
   "metadata": {},
   "outputs": [
    {
     "data": {
      "text/plain": [
       "(507364, 499212)"
      ]
     },
     "execution_count": 7,
     "metadata": {},
     "output_type": "execute_result"
    }
   ],
   "source": [
    "r = requests.get(\"https://dtf.ru/\")\n",
    "\n",
    "r_text = re.sub(r'\\<\\!\\-\\-.*?(?=-->)-->', '', r.text, re.MULTILINE)\n",
    "body = html.tostring(html.fromstring(r_text).xpath('//body')[0], encoding='unicode')\n",
    "len(r.text), len(body)"
   ]
  },
  {
   "cell_type": "code",
   "execution_count": 8,
   "id": "800384aa-1f2f-4eac-8bbf-ced10084ce99",
   "metadata": {},
   "outputs": [
    {
     "data": {
      "text/plain": [
       "(499212, 498988, 498988, 498988)"
      ]
     },
     "execution_count": 8,
     "metadata": {},
     "output_type": "execute_result"
    }
   ],
   "source": [
    "len(body), len(prepare(body)), len(prepare(prepare(body))), len(prepare(prepare(prepare(body))))"
   ]
  },
  {
   "cell_type": "code",
   "execution_count": 9,
   "id": "e9958ebc-ea3e-45c7-92e1-c451b9de7c63",
   "metadata": {},
   "outputs": [
    {
     "data": {
      "text/plain": [
       "304"
      ]
     },
     "execution_count": 9,
     "metadata": {},
     "output_type": "execute_result"
    }
   ],
   "source": [
    "s1 = html.tostring(json2lxml(lxml2json(prepare(body))), encoding='unicode')\n",
    "s2 = html.tostring(html.fromstring(prepare(body)), encoding='unicode')\n",
    "last = 0\n",
    "for i in range(min([len(s1), len(s2)])):\n",
    "    if s1[i] == s2[i]:\n",
    "        last = i\n",
    "    else:\n",
    "        break\n",
    "last"
   ]
  },
  {
   "cell_type": "code",
   "execution_count": null,
   "id": "f1082481-aca5-47d1-8c9e-c01210ee5a34",
   "metadata": {},
   "outputs": [],
   "source": [
    "html.tostring(json2lxml(lxml2json(prepare(body))), encoding='unicode') == html.tostring(html.fromstring(prepare(body)), encoding='unicode')"
   ]
  },
  {
   "cell_type": "code",
   "execution_count": 8,
   "id": "12f37e87-1fec-4e3b-95b9-404bf6f9fc2e",
   "metadata": {},
   "outputs": [
    {
     "data": {
      "text/plain": [
       "{<cyfunction Comment at 0x103cfb440>, 'noindex'}"
      ]
     },
     "execution_count": 8,
     "metadata": {},
     "output_type": "execute_result"
    }
   ],
   "source": [
    "l = html.fromstring(r.text).xpath('//body')[0]\n",
    "{x.tag for x in l.getiterator()} - {v.value for k,v in HtmlTag.__members__.items()}\n",
    "# le.__dir__()"
   ]
  },
  {
   "cell_type": "code",
   "execution_count": null,
   "id": "a95247c0-9ed7-4690-a7b8-f1b442f13f52",
   "metadata": {},
   "outputs": [],
   "source": [
    "__s = '''{'div': {'header class=`header`': {'a href=`/`': {'svg version=`1.1` id=`Слой_1` xmlns=`http://www.w3.org/2000/svg` xmlns:xlink=`http://www.w3.org/1999/xlink` x=`0px` y=`0px` viewbox=`0 0 509.9 188.5` style=`enable-background:new 0 0 509.9 188.5;width: 300px;` xml:space=`preserve`': {'style type=`text/css` __text__=`.st0{fill:#1B1B1B;}.st1{fill:url(#SVGID_1_);}.st2{display:none;}`': None,\n",
    "     'g id=`Слой_1_1_`': {'path class=`st0` d=`M148.4,115.5h10c7.9-18.4,11.7-36.5,11.7-72.8V30.3h77.3v85.2h10.2l-5.6,43.3h-20.1v-22.2h-59.3l-4.1,22.2h-20.1L148.4,115.5L148.4,115.5z M192.5,51.4v10.8c0,22.5-3.5,38.6-9.6,53.3h41V51.4H192.5z`': None,\n",
    "      'path class=`st0` d=`M350.9,113c0-17.8,13.5-26,32.8-26c8.2,0,14.1,1.4,19.9,3.3v-1.4c0-9.6-5.9-14.9-17.5-14.9c-8.8,0-15,1.7-22.5,4.4l-5.8-17.6c9-3.9,17.8-6.5,31.6-6.5c12.6,0,21.7,3.3,27.5,9.1c6.1,6.1,8.8,15,8.8,26v47.2h-22.3v-8.8c-5.6,6.2-13.4,10.3-24.6,10.3C363.5,138.2,350.9,129.4,350.9,113z M403.9,107.9v-4.1c-3.9-1.8-9.1-3-14.7-3c-9.9,0-15.9,3.9-15.9,11.5c0,6.2,5.2,9.9,12.6,9.9C396.6,122.2,403.9,116.3,403.9,107.9z`': None,\n",
    "      'path class=`st0` d=`M459.6,80.8c0,8.5,3.6,13.4,11.2,13.4c6.2,0,11.2-1.7,15.8-3.9V55.2h23.2v81.4h-23.2v-28.4c-5.6,2.7-13.8,5.3-22,5.3c-16.3,0-28.4-9.3-28.4-26.3v-32h23.4V80.8z`': None,\n",
    "      'path class=`st0` d=`M334.5,98c-2.1-1.8-4.5-3.2-7.1-4.1c1.9-1,3.7-2.3,5.2-3.9c3.6-3.7,5.9-8.7,5.9-14.3c0-9.3-6.9-17.8-15.9-20c-3.4-0.8-7.1-0.5-10.6-0.5h-42.1v81.4h50.3c10.3,0,19.5-7.5,21.6-17.6c0.3-1.5,0.5-3,0.4-4.5C342.1,108.2,339.3,102.2,334.5,98z M292.6,72h15.6c4.4,0,8.1,3.6,8.1,8.1c0,4.4-3.6,8.1-8.1,8.1h-15.6V72z M311.6,121.1h-18.9c0,0,0,0-0.1,0V105c0,0,0,0,0.1,0h18.9c4.4,0,8.1,3.6,8.1,8.1C319.7,117.5,316,121.1,311.6,121.1z`': None,\n",
    "      'lineargradient id=`SVGID_1_` gradientunits=`userSpaceOnUse` x1=`48.9124` y1=`235.6292` x2=`72.3371` y2=`23.9901` gradienttransform=`matrix(1 0 0 -1 0 196.6667)`': {'stop offset=`0` style=`stop-color:#FFA90A`': None,'''\n",
    "\n",
    "re.findall(r'\\_\\_[^ =]+\\_\\_\\=\\`([^\\`]*)\\`', __s)"
   ]
  },
  {
   "cell_type": "code",
   "execution_count": 8,
   "id": "264be033-4c76-4675-9d69-eb3038357526",
   "metadata": {},
   "outputs": [
    {
     "data": {
      "text/plain": [
       "'<div><td class=\"second-column\"><ul><li><code>\\'</code></li><li><code>\\'</code></li><li><code>\\'</code></li></ul></td><tr><td class=\"label first-column\">UTF-8 Encoding:</td><td class=\"second-column\"><code>0x27</code></td></tr><tr><td class=\"label first-column\">UTF-16 Encoding:</td><td class=\"second-column\"><code>0x0027</code></td></tr></div>'"
      ]
     },
     "execution_count": 8,
     "metadata": {},
     "output_type": "execute_result"
    }
   ],
   "source": [
    "# __s = '''{'div': {'header class=`header`': {'a href=`/`': {'svg version=`1.1` id=`Слой_1` xmlns=`http://www.w3.org/2000/svg` xmlns:xlink=`http://www.w3.org/1999/xlink` x=`0px` y=`0px` viewbox=`0 0 509.9 188.5` style=`enable-background:new 0 0 509.9 188.5;width: 300px;` xml:space=`preserve`': {'style type=`text/css` __text__=`.st0{fill:#1B1B1B;}.st1{fill:url(#SVGID_1_);}.st2{display:none;}`': None,\n",
    "#      'g id=`Слой_1_1_`': {'path class=`st0` d=`M148.4,115.5h10c7.9-18.4,11.7-36.5,11.7-72.8V30.3h77.3v85.2h10.2l-5.6,43.3h-20.1v-22.2h-59.3l-4.1,22.2h-20.1L148.4,115.5L148.4,115.5z M192.5,51.4v10.8c0,22.5-3.5,38.6-9.6,53.3h41V51.4H192.5z`': None,\n",
    "#       'path class=`st0` d=`M350.9,113c0-17.8,13.5-26,32.8-26c8.2,0,14.1,1.4,19.9,3.3v-1.4c0-9.6-5.9-14.9-17.5-14.9c-8.8,0-15,1.7-22.5,4.4l-5.8-17.6c9-3.9,17.8-6.5,31.6-6.5c12.6,0,21.7,3.3,27.5,9.1c6.1,6.1,8.8,15,8.8,26v47.2h-22.3v-8.8c-5.6,6.2-13.4,10.3-24.6,10.3C363.5,138.2,350.9,129.4,350.9,113z M403.9,107.9v-4.1c-3.9-1.8-9.1-3-14.7-3c-9.9,0-15.9,3.9-15.9,11.5c0,6.2,5.2,9.9,12.6,9.9C396.6,122.2,403.9,116.3,403.9,107.9z`': None,\n",
    "#       'path class=`st0` d=`M459.6,80.8c0,8.5,3.6,13.4,11.2,13.4c6.2,0,11.2-1.7,15.8-3.9V55.2h23.2v81.4h-23.2v-28.4c-5.6,2.7-13.8,5.3-22,5.3c-16.3,0-28.4-9.3-28.4-26.3v-32h23.4V80.8z`': None,\n",
    "#       'path class=`st0` d=`M334.5,98c-2.1-1.8-4.5-3.2-7.1-4.1c1.9-1,3.7-2.3,5.2-3.9c3.6-3.7,5.9-8.7,5.9-14.3c0-9.3-6.9-17.8-15.9-20c-3.4-0.8-7.1-0.5-10.6-0.5h-42.1v81.4h50.3c10.3,0,19.5-7.5,21.6-17.6c0.3-1.5,0.5-3,0.4-4.5C342.1,108.2,339.3,102.2,334.5,98z M292.6,72h15.6c4.4,0,8.1,3.6,8.1,8.1c0,4.4-3.6,8.1-8.1,8.1h-15.6V72z M311.6,121.1h-18.9c0,0,0,0-0.1,0V105c0,0,0,0,0.1,0h18.9c4.4,0,8.1,3.6,8.1,8.1C319.7,117.5,316,121.1,311.6,121.1z`': None,\n",
    "#       'lineargradient id=`SVGID_1_` gradientunits=`userSpaceOnUse` x1=`48.9124` y1=`235.6292` x2=`72.3371` y2=`23.9901` gradienttransform=`matrix(1 0 0 -1 0 196.6667)`': {'stop offset=`0` style=`stop-color:#FFA90A`': None,\n",
    "#        'stop offset=`0.2518` style=`stop-color:#FFA00D`': None'''\n",
    "\n",
    "# for x in re.finditer(r'[^\\_ =]+\\=(\\`[^\\`]+\\`)', __s):\n",
    "#     print(x)\n",
    "\n",
    "html.tostring(\n",
    "    json2lxml(\n",
    "        lxml2json(prepare('''<td class=\"second-column\"><ul><li><code>&amp;#39;</code></li><li><code>&amp;#x27;</code></li><li><code>&amp;apos;</code></li></ul></td></tr><tr><td class=\"label first-column\">UTF-8 Encoding:</td><td class=\"second-column\"><code>0x27</code></td></tr><tr><td class=\"label first-column\">UTF-16 Encoding:</td><td class=\"second-column\"><code>0x0027</code></td>'''))\n",
    "    )\n",
    ", encoding='unicode')"
   ]
  },
  {
   "cell_type": "code",
   "execution_count": 12,
   "id": "3452faa5-7fc3-474b-9810-bf5c1f453975",
   "metadata": {},
   "outputs": [
    {
     "data": {
      "text/plain": [
       "'class data-router-link><span><svg xmlns=\"http://www.w3.org/2000/svg\" width=\"70\" height=\"23\" viewbox=\"0 0 70 23\"><path fill-rule=\"evenodd\" d=\"M0 0h14.5c5.014 0 9.001 3.984 9 8.883v5.234c0 4.899-3.986 8.883-9 8.883H0V0Zm14.5 17.216c1.749 0 3-1.39 3-3.099V8.883c0-1.712-1.252-3.1-3-3.1H6v11.433h8.5Z\" clip-rule=\"evenodd\"></path><path d=\"M25 6h8v17h7V6h8V0H25v6ZM70 6V0H51v23h6.5v-7H67v-6h-9.5V6H70Z\"></path></svg></span></a></div><div class=\"header__main\"></div><div class=\"header__app\"></div></div></div></div><div class=\"layout\"><div class=\"aside aside--left\"><div class=\"sidebar\"><div class=\"sidebar__section\"><a href=\"/popular\" class=\"sidebar-item sidebar-item--active\" data-router-link><svg class=\"'"
      ]
     },
     "execution_count": 12,
     "metadata": {},
     "output_type": "execute_result"
    }
   ],
   "source": [
    "html.tostring(json2lxml(lxml2json(prepare(body))), encoding='unicode')[300:1000]"
   ]
  },
  {
   "cell_type": "code",
   "execution_count": 13,
   "id": "20046fb3-8a14-4e3a-9d49-5a06ddc6a7e1",
   "metadata": {},
   "outputs": [
    {
     "data": {
      "text/plain": [
       "'class=\"\" data-router-link><span><svg xmlns=\"http://www.w3.org/2000/svg\" width=\"70\" height=\"23\" viewbox=\"0 0 70 23\"><path fill-rule=\"evenodd\" d=\"M0 0h14.5c5.014 0 9.001 3.984 9 8.883v5.234c0 4.899-3.986 8.883-9 8.883H0V0Zm14.5 17.216c1.749 0 3-1.39 3-3.099V8.883c0-1.712-1.252-3.1-3-3.1H6v11.433h8.5Z\" clip-rule=\"evenodd\"></path><path d=\"M25 6h8v17h7V6h8V0H25v6ZM70 6V0H51v23h6.5v-7H67v-6h-9.5V6H70Z\"></path></svg></span></a></div><div class=\"header__main\"></div><div class=\"header__app\"></div><!----></div></div></div><div class=\"layout\"><div class=\"aside aside--left\"><div class=\"sidebar\"><div class=\"sidebar__section\"><!--[--><a href=\"/popular\" class=\"sidebar-item sidebar-item--active\" data-router'"
      ]
     },
     "execution_count": 13,
     "metadata": {},
     "output_type": "execute_result"
    }
   ],
   "source": [
    "html.tostring(html.fromstring(prepare(body)), encoding='unicode')[300:1000]"
   ]
  },
  {
   "cell_type": "code",
   "execution_count": 7,
   "id": "63dfcb62-2006-495a-8a9d-48636731ed79",
   "metadata": {},
   "outputs": [
    {
     "data": {
      "text/plain": [
       "False"
      ]
     },
     "execution_count": 7,
     "metadata": {},
     "output_type": "execute_result"
    }
   ],
   "source": [
    "html.tostring(html.fromstring(prepare(body)), encoding='unicode') == html.tostring(json2lxml(lxml2json(prepare(body))), encoding='unicode')"
   ]
  },
  {
   "cell_type": "code",
   "execution_count": null,
   "id": "afbb4533-17ec-4bc6-a95b-6aee93b81187",
   "metadata": {},
   "outputs": [],
   "source": [
    "l.xpath('//a[@href=\"/nf/\"]')[0].text"
   ]
  },
  {
   "cell_type": "code",
   "execution_count": null,
   "id": "93ff4d51-1be3-43a9-bef1-f3c6566204ef",
   "metadata": {},
   "outputs": [],
   "source": [
    "ll = html.fromstring('<html><body><a href=\"/nf/\">NeuroFap <span style=\"font-size:10px; color:red;\"> (18+)</span></a></body></html>')\n",
    "\n",
    "[*ll.iter()]"
   ]
  },
  {
   "cell_type": "code",
   "execution_count": null,
   "id": "9364e244-6d05-436f-ac7f-0cdbce399e19",
   "metadata": {},
   "outputs": [],
   "source": [
    "html.tostring(ll.xpath('//a')[0])"
   ]
  },
  {
   "cell_type": "code",
   "execution_count": null,
   "id": "35471ab7-7fcd-439f-b9a3-f44e6c749a89",
   "metadata": {},
   "outputs": [],
   "source": [
    "html.tostring(json2lxml(lxml2json(\n",
    "    html.fromstring('<div class=\"tn__item desktop\"><a href=\"/b/\">Назад</a> | <a href=\"#bottom\">Вниз</a> | <a href=\"/b/catalog.html\" class=\"desktop\" target=\"_blank\">Каталог</a> | <a href=\"#\" class=\"js-update-thread\">Обновить</a> | <span class=\"autorefresh tn__refresh js-refresh\"><input type=\"checkbox\" class=\"autorefresh-checkbox js-refresh-checkbox\"> Автообновление <span class=\"autorefresh-countdown js-refresh-count\"></span></span> | <span title=\"Всего постов в треде\"><svg xmlns=\"http://www.w3.org/2000/svg\" class=\"icon\"><use xlink:href=\"#icon__posts\"></use></svg> 32</span><span title=\"Всего файлов в треде\"><svg xmlns=\"http://www.w3.org/2000/svg\" class=\"icon\"><use xlink:href=\"#icon__images\"></use></svg> 3</span><span title=\"Постеры\"><svg xmlns=\"http://www.w3.org/2000/svg\" class=\"icon\"><use xlink:href=\"#icon__users\"></use></svg> 12</span></div>')\n",
    ")), encoding='unicode')"
   ]
  },
  {
   "cell_type": "markdown",
   "id": "b1d12480-02ce-492f-8135-7b4d956da921",
   "metadata": {},
   "source": [
    "```js\n",
    "{\n",
    "    'a href=`/b/` __meta=`{\"pre\": \"\", \"body\": \"Назад\", \"post\": \" | \"}`': {\n",
    "        \n",
    "    }\n",
    "}\n",
    "```"
   ]
  },
  {
   "cell_type": "code",
   "execution_count": null,
   "id": "81f71a1b-db80-4f51-98fb-d54a42f4ce69",
   "metadata": {},
   "outputs": [],
   "source": [
    "html.tostring(json2lxml(lxml2json(\n",
    "    html.fromstring('<div class=\"tn__item desktop\"><a href=\"/b/\">Назад<span>wow</span>sdfsdf</a> | <a href=\"#bottom\">Вниз</a> | <a href=\"/b/catalog.html\" class=\"desktop\" target=\"_blank\">Каталог</a> | <a href=\"#\" class=\"js-update-thread\">Обновить</a> | <span class=\"autorefresh tn__refresh js-refresh\"><input type=\"checkbox\" class=\"autorefresh-checkbox js-refresh-checkbox\"> Автообновление <span class=\"autorefresh-countdown js-refresh-count\"></span></span> | <span title=\"Всего постов в треде\"><svg xmlns=\"http://www.w3.org/2000/svg\" class=\"icon\"><use xlink:href=\"#icon__posts\"></use></svg> 32</span><span title=\"Всего файлов в треде\"><svg xmlns=\"http://www.w3.org/2000/svg\" class=\"icon\"><use xlink:href=\"#icon__images\"></use></svg> 3</span><span title=\"Постеры\"><svg xmlns=\"http://www.w3.org/2000/svg\" class=\"icon\"><use xlink:href=\"#icon__users\"></use></svg> 12</span></div>')\n",
    ")), encoding='unicode')"
   ]
  },
  {
   "cell_type": "code",
   "execution_count": null,
   "id": "f9d79db8-e36b-42fb-a5ab-be5c02e33246",
   "metadata": {},
   "outputs": [],
   "source": [
    "html.tostring(html.fromstring('<div class=\"tn__item desktop\"><a href=\"/b/\">Назад</a> | <a href=\"#bottom\">Вниз</a> | <a href=\"/b/catalog.html\" class=\"desktop\" target=\"_blank\">Каталог</a> | <a href=\"#\" class=\"js-update-thread\">Обновить</a> | <span class=\"autorefresh tn__refresh js-refresh\"><input type=\"checkbox\" class=\"autorefresh-checkbox js-refresh-checkbox\"> Автообновление <span class=\"autorefresh-countdown js-refresh-count\"></span></span> | <span title=\"Всего постов в треде\"><svg xmlns=\"http://www.w3.org/2000/svg\" class=\"icon\"><use xlink:href=\"#icon__posts\"></use></svg> 32</span><span title=\"Всего файлов в треде\"><svg xmlns=\"http://www.w3.org/2000/svg\" class=\"icon\"><use xlink:href=\"#icon__images\"></use></svg> 3</span><span title=\"Постеры\"><svg xmlns=\"http://www.w3.org/2000/svg\" class=\"icon\"><use xlink:href=\"#icon__users\"></use></svg> 12</span></div>'), encoding='unicode')"
   ]
  },
  {
   "cell_type": "code",
   "execution_count": null,
   "id": "314a6da7-53f5-4fee-9719-be756c01e019",
   "metadata": {},
   "outputs": [],
   "source": [
    "html.fromstring(\n",
    "    '<html><div class=\"tn__item desktop\"><a href=\"/b/\">Назад</a> | <a href=\"#bottom\">Вниз</a> | <a href=\"/b/catalog.html\" class=\"desktop\" target=\"_blank\">Каталог</a> | <a href=\"#\" class=\"js-update-thread\">Обновить</a> | <span class=\"autorefresh tn__refresh js-refresh\"><input type=\"checkbox\" class=\"autorefresh-checkbox js-refresh-checkbox\"> Автообновление <span class=\"autorefresh-countdown js-refresh-count\"></span></span> | <span title=\"Всего постов в треде\"><svg xmlns=\"http://www.w3.org/2000/svg\" class=\"icon\"><use xlink:href=\"#icon__posts\"></use></svg> 32</span><span title=\"Всего файлов в треде\"><svg xmlns=\"http://www.w3.org/2000/svg\" class=\"icon\"><use xlink:href=\"#icon__images\"></use></svg> 3</span><span title=\"Постеры\"><svg xmlns=\"http://www.w3.org/2000/svg\" class=\"icon\"><use xlink:href=\"#icon__users\"></use></svg> 12</span></div></html>'\n",
    ").getchildren()[0].getchildren()[0].getchildren()[0].tail"
   ]
  },
  {
   "cell_type": "code",
   "execution_count": null,
   "id": "08906b19-388c-4ba2-b21c-63d841b64bc0",
   "metadata": {},
   "outputs": [],
   "source": [
    "import re\n",
    "\n",
    "re.sub(r'\\_\\_[^ =]+\\=\\`[^\\`]*\\`', '', 'div class=`tn__item desktop` __prefix=`` __text=`` __tail=``')"
   ]
  },
  {
   "cell_type": "code",
   "execution_count": null,
   "id": "22444d6c-2962-45a5-acd4-a946c2fbd2e7",
   "metadata": {},
   "outputs": [],
   "source": []
  }
 ],
 "metadata": {
  "kernelspec": {
   "display_name": "Python 3 (ipykernel)",
   "language": "python",
   "name": "python3"
  },
  "language_info": {
   "codemirror_mode": {
    "name": "ipython",
    "version": 3
   },
   "file_extension": ".py",
   "mimetype": "text/x-python",
   "name": "python",
   "nbconvert_exporter": "python",
   "pygments_lexer": "ipython3",
   "version": "3.11.10"
  }
 },
 "nbformat": 4,
 "nbformat_minor": 5
}
