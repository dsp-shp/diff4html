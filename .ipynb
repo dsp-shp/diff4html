{
 "cells": [
  {
   "cell_type": "code",
   "execution_count": 4,
   "id": "924a4b15-5f4a-4ba3-8c67-3410b1f14c15",
   "metadata": {},
   "outputs": [],
   "source": [
    "from lxml import html, etree\n",
    "from diff4html.html import lxml2json, json2lxml, prepare, HtmlTag\n",
    "from diff4html.diff import HtmlDict, HtmlDiff\n",
    "import re\n",
    "import json\n",
    "import requests"
   ]
  },
  {
   "cell_type": "code",
   "execution_count": 4,
   "id": "53ba23da-9f8c-4156-a004-fa46bdc7f2e9",
   "metadata": {},
   "outputs": [
    {
     "data": {
      "text/plain": [
       "False"
      ]
     },
     "execution_count": 4,
     "metadata": {},
     "output_type": "execute_result"
    }
   ],
   "source": [
    "# # prepare('<html><body><div class=\"\">...</div></body></html>')\n",
    "\n",
    "# _s = '<html><body><div class=\"\" test=\"324\">...</div></body></html>'\n",
    "# _s = re.sub(r'[^= ]+(\\=\\\"\\\"[ ]?)', '', _s)\n",
    "# _s\n",
    "\n",
    "# html.tostring(\n",
    "#     html.fromstring(prepare('<html><body><div class=\"\" test=\"324\">...</div></body></html>')),\n",
    "#     encoding='unicode'\n",
    "# )\n",
    "\n",
    "# body = '<html><body><div ul=\"as\" test=\"324\">...</div></body></html>'\n",
    "'ulclass' in html.tostring(json2lxml(lxml2json(prepare(body))), encoding='unicode')"
   ]
  },
  {
   "cell_type": "code",
   "execution_count": 3,
   "id": "38b0219c-c626-4705-b5d0-d0ca7220ad87",
   "metadata": {},
   "outputs": [
    {
     "data": {
      "text/plain": [
       "<Element div at 0x105c5ae90>"
      ]
     },
     "execution_count": 3,
     "metadata": {},
     "output_type": "execute_result"
    }
   ],
   "source": [
    "# re.sub(r'\\s+(?=<)', '', html.tostring(\n",
    "#     json2lxml(lxml2json(r.text)).xpath('//body')[0],\n",
    "#     encoding='unicode'\n",
    "# ))\n",
    "\n",
    "# for x in re.finditer(r\"\\>([^\\<]+)\\<\\/\", s):\n",
    "json2lxml(lxml2json(prepare(body)))\n",
    "# r.text"
   ]
  },
  {
   "cell_type": "code",
   "execution_count": null,
   "id": "9dc7b9ba-18cf-4c13-8503-ed57e2bb2bc5",
   "metadata": {},
   "outputs": [],
   "source": [
    "re.findall(r'\\<\\!\\-\\-.*?(?=-->)\\-\\-\\>', re.sub(r'\\<\\!\\-\\-.*?(?=-->)\\-\\-\\>', '', prep, re.MULTILINE))"
   ]
  },
  {
   "cell_type": "code",
   "execution_count": 3,
   "id": "dea58fec-e2a2-435f-b254-8f1ed7035a4c",
   "metadata": {},
   "outputs": [
    {
     "data": {
      "text/plain": [
       "(358065, 340803)"
      ]
     },
     "execution_count": 3,
     "metadata": {},
     "output_type": "execute_result"
    }
   ],
   "source": [
    "r = requests.get(\"https://stackoverflow.com\")\n",
    "r_text = r.text\n",
    "# r_text = re.sub(r'\\<\\!\\-\\-.*?(?=-->)\\-\\-\\>', '', r.text, re.MULTILINE)\n",
    "# r_text = re.sub('\\s+(?=<)', '', r.text, re.MULTILINE)\n",
    "body = html.tostring(html.fromstring(r_text, parser=etree.HTMLParser(remove_comments=True)).xpath('//body')[0], encoding='unicode')\n",
    "prep = prepare(body)\n",
    "len(r.text), len(body)"
   ]
  },
  {
   "cell_type": "code",
   "execution_count": 5,
   "id": "800384aa-1f2f-4eac-8bbf-ced10084ce99",
   "metadata": {},
   "outputs": [
    {
     "data": {
      "text/plain": [
       "(340803, 296524, 296524, 296524)"
      ]
     },
     "execution_count": 5,
     "metadata": {},
     "output_type": "execute_result"
    }
   ],
   "source": [
    "len(body), len(prepare(body)), len(prepare(prepare(body))), len(prepare(prepare(prepare(body))))"
   ]
  },
  {
   "cell_type": "code",
   "execution_count": 4,
   "id": "e9958ebc-ea3e-45c7-92e1-c451b9de7c63",
   "metadata": {},
   "outputs": [
    {
     "data": {
      "text/plain": [
       "54296"
      ]
     },
     "execution_count": 4,
     "metadata": {},
     "output_type": "execute_result"
    }
   ],
   "source": [
    "s1 = html.tostring(json2lxml(lxml2json(prepare(body))), encoding='unicode')\n",
    "s2 = html.tostring(html.fromstring(prepare(body)), encoding='unicode')\n",
    "last = 0\n",
    "for i in range(min([len(s1), len(s2)])):\n",
    "    if s1[i] == s2[i]:\n",
    "        last = i\n",
    "    else:\n",
    "        break\n",
    "last"
   ]
  },
  {
   "cell_type": "code",
   "execution_count": null,
   "id": "f1082481-aca5-47d1-8c9e-c01210ee5a34",
   "metadata": {},
   "outputs": [],
   "source": [
    "html.tostring(json2lxml(lxml2json(prepare(body))), encoding='unicode') == html.tostring(html.fromstring(prepare(body)), encoding='unicode')"
   ]
  },
  {
   "cell_type": "code",
   "execution_count": 12,
   "id": "12f37e87-1fec-4e3b-95b9-404bf6f9fc2e",
   "metadata": {},
   "outputs": [
    {
     "data": {
      "text/plain": [
       "{<cyfunction Comment at 0x10765f510>}"
      ]
     },
     "execution_count": 12,
     "metadata": {},
     "output_type": "execute_result"
    }
   ],
   "source": [
    "l = html.fromstring(r.text).xpath('//body')[0]\n",
    "{x.tag for x in l.getiterator()} - {v.value for k,v in HtmlTag.__members__.items()}\n",
    "# le.__dir__()"
   ]
  },
  {
   "cell_type": "code",
   "execution_count": null,
   "id": "a95247c0-9ed7-4690-a7b8-f1b442f13f52",
   "metadata": {},
   "outputs": [],
   "source": [
    "__s = '''{'div': {'header class=`header`': {'a href=`/`': {'svg version=`1.1` id=`Слой_1` xmlns=`http://www.w3.org/2000/svg` xmlns:xlink=`http://www.w3.org/1999/xlink` x=`0px` y=`0px` viewbox=`0 0 509.9 188.5` style=`enable-background:new 0 0 509.9 188.5;width: 300px;` xml:space=`preserve`': {'style type=`text/css` __text__=`.st0{fill:#1B1B1B;}.st1{fill:url(#SVGID_1_);}.st2{display:none;}`': None,\n",
    "     'g id=`Слой_1_1_`': {'path class=`st0` d=`M148.4,115.5h10c7.9-18.4,11.7-36.5,11.7-72.8V30.3h77.3v85.2h10.2l-5.6,43.3h-20.1v-22.2h-59.3l-4.1,22.2h-20.1L148.4,115.5L148.4,115.5z M192.5,51.4v10.8c0,22.5-3.5,38.6-9.6,53.3h41V51.4H192.5z`': None,\n",
    "      'path class=`st0` d=`M350.9,113c0-17.8,13.5-26,32.8-26c8.2,0,14.1,1.4,19.9,3.3v-1.4c0-9.6-5.9-14.9-17.5-14.9c-8.8,0-15,1.7-22.5,4.4l-5.8-17.6c9-3.9,17.8-6.5,31.6-6.5c12.6,0,21.7,3.3,27.5,9.1c6.1,6.1,8.8,15,8.8,26v47.2h-22.3v-8.8c-5.6,6.2-13.4,10.3-24.6,10.3C363.5,138.2,350.9,129.4,350.9,113z M403.9,107.9v-4.1c-3.9-1.8-9.1-3-14.7-3c-9.9,0-15.9,3.9-15.9,11.5c0,6.2,5.2,9.9,12.6,9.9C396.6,122.2,403.9,116.3,403.9,107.9z`': None,\n",
    "      'path class=`st0` d=`M459.6,80.8c0,8.5,3.6,13.4,11.2,13.4c6.2,0,11.2-1.7,15.8-3.9V55.2h23.2v81.4h-23.2v-28.4c-5.6,2.7-13.8,5.3-22,5.3c-16.3,0-28.4-9.3-28.4-26.3v-32h23.4V80.8z`': None,\n",
    "      'path class=`st0` d=`M334.5,98c-2.1-1.8-4.5-3.2-7.1-4.1c1.9-1,3.7-2.3,5.2-3.9c3.6-3.7,5.9-8.7,5.9-14.3c0-9.3-6.9-17.8-15.9-20c-3.4-0.8-7.1-0.5-10.6-0.5h-42.1v81.4h50.3c10.3,0,19.5-7.5,21.6-17.6c0.3-1.5,0.5-3,0.4-4.5C342.1,108.2,339.3,102.2,334.5,98z M292.6,72h15.6c4.4,0,8.1,3.6,8.1,8.1c0,4.4-3.6,8.1-8.1,8.1h-15.6V72z M311.6,121.1h-18.9c0,0,0,0-0.1,0V105c0,0,0,0,0.1,0h18.9c4.4,0,8.1,3.6,8.1,8.1C319.7,117.5,316,121.1,311.6,121.1z`': None,\n",
    "      'lineargradient id=`SVGID_1_` gradientunits=`userSpaceOnUse` x1=`48.9124` y1=`235.6292` x2=`72.3371` y2=`23.9901` gradienttransform=`matrix(1 0 0 -1 0 196.6667)`': {'stop offset=`0` style=`stop-color:#FFA90A`': None,'''\n",
    "\n",
    "re.findall(r'\\_\\_[^ =]+\\_\\_\\=\\`([^\\`]*)\\`', __s)"
   ]
  },
  {
   "cell_type": "code",
   "execution_count": 8,
   "id": "264be033-4c76-4675-9d69-eb3038357526",
   "metadata": {},
   "outputs": [
    {
     "data": {
      "text/plain": [
       "'<div><td class=\"second-column\"><ul><li><code>\\'</code></li><li><code>\\'</code></li><li><code>\\'</code></li></ul></td><tr><td class=\"label first-column\">UTF-8 Encoding:</td><td class=\"second-column\"><code>0x27</code></td></tr><tr><td class=\"label first-column\">UTF-16 Encoding:</td><td class=\"second-column\"><code>0x0027</code></td></tr></div>'"
      ]
     },
     "execution_count": 8,
     "metadata": {},
     "output_type": "execute_result"
    }
   ],
   "source": [
    "# __s = '''{'div': {'header class=`header`': {'a href=`/`': {'svg version=`1.1` id=`Слой_1` xmlns=`http://www.w3.org/2000/svg` xmlns:xlink=`http://www.w3.org/1999/xlink` x=`0px` y=`0px` viewbox=`0 0 509.9 188.5` style=`enable-background:new 0 0 509.9 188.5;width: 300px;` xml:space=`preserve`': {'style type=`text/css` __text__=`.st0{fill:#1B1B1B;}.st1{fill:url(#SVGID_1_);}.st2{display:none;}`': None,\n",
    "#      'g id=`Слой_1_1_`': {'path class=`st0` d=`M148.4,115.5h10c7.9-18.4,11.7-36.5,11.7-72.8V30.3h77.3v85.2h10.2l-5.6,43.3h-20.1v-22.2h-59.3l-4.1,22.2h-20.1L148.4,115.5L148.4,115.5z M192.5,51.4v10.8c0,22.5-3.5,38.6-9.6,53.3h41V51.4H192.5z`': None,\n",
    "#       'path class=`st0` d=`M350.9,113c0-17.8,13.5-26,32.8-26c8.2,0,14.1,1.4,19.9,3.3v-1.4c0-9.6-5.9-14.9-17.5-14.9c-8.8,0-15,1.7-22.5,4.4l-5.8-17.6c9-3.9,17.8-6.5,31.6-6.5c12.6,0,21.7,3.3,27.5,9.1c6.1,6.1,8.8,15,8.8,26v47.2h-22.3v-8.8c-5.6,6.2-13.4,10.3-24.6,10.3C363.5,138.2,350.9,129.4,350.9,113z M403.9,107.9v-4.1c-3.9-1.8-9.1-3-14.7-3c-9.9,0-15.9,3.9-15.9,11.5c0,6.2,5.2,9.9,12.6,9.9C396.6,122.2,403.9,116.3,403.9,107.9z`': None,\n",
    "#       'path class=`st0` d=`M459.6,80.8c0,8.5,3.6,13.4,11.2,13.4c6.2,0,11.2-1.7,15.8-3.9V55.2h23.2v81.4h-23.2v-28.4c-5.6,2.7-13.8,5.3-22,5.3c-16.3,0-28.4-9.3-28.4-26.3v-32h23.4V80.8z`': None,\n",
    "#       'path class=`st0` d=`M334.5,98c-2.1-1.8-4.5-3.2-7.1-4.1c1.9-1,3.7-2.3,5.2-3.9c3.6-3.7,5.9-8.7,5.9-14.3c0-9.3-6.9-17.8-15.9-20c-3.4-0.8-7.1-0.5-10.6-0.5h-42.1v81.4h50.3c10.3,0,19.5-7.5,21.6-17.6c0.3-1.5,0.5-3,0.4-4.5C342.1,108.2,339.3,102.2,334.5,98z M292.6,72h15.6c4.4,0,8.1,3.6,8.1,8.1c0,4.4-3.6,8.1-8.1,8.1h-15.6V72z M311.6,121.1h-18.9c0,0,0,0-0.1,0V105c0,0,0,0,0.1,0h18.9c4.4,0,8.1,3.6,8.1,8.1C319.7,117.5,316,121.1,311.6,121.1z`': None,\n",
    "#       'lineargradient id=`SVGID_1_` gradientunits=`userSpaceOnUse` x1=`48.9124` y1=`235.6292` x2=`72.3371` y2=`23.9901` gradienttransform=`matrix(1 0 0 -1 0 196.6667)`': {'stop offset=`0` style=`stop-color:#FFA90A`': None,\n",
    "#        'stop offset=`0.2518` style=`stop-color:#FFA00D`': None'''\n",
    "\n",
    "# for x in re.finditer(r'[^\\_ =]+\\=(\\`[^\\`]+\\`)', __s):\n",
    "#     print(x)\n",
    "\n",
    "html.tostring(\n",
    "    json2lxml(\n",
    "        lxml2json(prepare('''<td class=\"second-column\"><ul><li><code>&amp;#39;</code></li><li><code>&amp;#x27;</code></li><li><code>&amp;apos;</code></li></ul></td></tr><tr><td class=\"label first-column\">UTF-8 Encoding:</td><td class=\"second-column\"><code>0x27</code></td></tr><tr><td class=\"label first-column\">UTF-16 Encoding:</td><td class=\"second-column\"><code>0x0027</code></td>'''))\n",
    "    )\n",
    ", encoding='unicode')"
   ]
  },
  {
   "cell_type": "code",
   "execution_count": 6,
   "id": "3452faa5-7fc3-474b-9810-bf5c1f453975",
   "metadata": {},
   "outputs": [
    {
     "data": {
      "text/plain": [
       "' custom memory resource to track the number of bytes allocated. I noticed that a std::pmr::vector<std::pmr::vector>&gt; passes its memory resource to the inner vector when a new ... </std::pmr::vector></div><div class=\"s-post-summary--meta\"><div class=\"s-post-summary--meta-tags d-inline-block tags js-tags t-cçç t-vector t-cççpmr\"><ul class=\"ml0 list-ls-none js-post-tag-list-wrapper d-inline\"><li class=\"d-inline mr4 js-post-tag-list-item\"><a href=\"/questions/tagged/c%2b%2b\" class=\"s-tag post-tag flex--item mt0 js-tagname-cçç\" title=\"show questions tagged \\'c++\\'\" aria-label=\"show questions tagged \\'c++\\'\" rel=\"tag\" aria-labelledby=\"tag-c++-tooltip-container\" data-tag-menu-origin=\"Unknown\">c++</a></li><li class=\"d-inline mr4 js-post-tag-list-item\"><a href=\"/questions/tagged/vector\" class=\"s-tag post-tag flex--item mt0 js-tagname-vector\" title=\"show questions tagged \\'vector\\'\" aria-label=\"show questions tagged \\'vector\\'\" rel=\"tag\" aria-labelledby=\"tag-vector-tooltip-container\" data-tag-menu-ori'"
      ]
     },
     "execution_count": 6,
     "metadata": {},
     "output_type": "execute_result"
    }
   ],
   "source": [
    "html.tostring(json2lxml(lxml2json(prepare(body))), encoding='unicode')[(last//100)*100:((last//100)*100)+1000]"
   ]
  },
  {
   "cell_type": "code",
   "execution_count": 7,
   "id": "20046fb3-8a14-4e3a-9d49-5a06ddc6a7e1",
   "metadata": {},
   "outputs": [
    {
     "data": {
      "text/plain": [
       "' custom memory resource to track the number of bytes allocated. I noticed that a std::pmr::vector&lt;std::pmr::vector&lt;int&gt;&gt; passes its memory resource to the inner vector when a new ... </div><div class=\"s-post-summary--meta\"><div class=\"s-post-summary--meta-tags d-inline-block tags js-tags t-cçç t-vector t-cççpmr\"><ul class=\"ml0 list-ls-none js-post-tag-list-wrapper d-inline\"><li class=\"d-inline mr4 js-post-tag-list-item\"><a href=\"/questions/tagged/c%2b%2b\" class=\"s-tag post-tag flex--item mt0 js-tagname-cçç\" title=\"show questions tagged \\'c++\\'\" aria-label=\"show questions tagged \\'c++\\'\" rel=\"tag\" aria-labelledby=\"tag-c++-tooltip-container\" data-tag-menu-origin=\"Unknown\">c++</a></li><li class=\"d-inline mr4 js-post-tag-list-item\"><a href=\"/questions/tagged/vector\" class=\"s-tag post-tag flex--item mt0 js-tagname-vector\" title=\"show questions tagged \\'vector\\'\" aria-label=\"show questions tagged \\'vector\\'\" rel=\"tag\" aria-labelledby=\"tag-vector-tooltip-container\" data-tag-menu-origin=\"U'"
      ]
     },
     "execution_count": 7,
     "metadata": {},
     "output_type": "execute_result"
    }
   ],
   "source": [
    "html.tostring(html.fromstring(prepare(body)), encoding='unicode')[(last//100)*100:((last//100)*100)+1000]"
   ]
  },
  {
   "cell_type": "code",
   "execution_count": 4,
   "id": "63dfcb62-2006-495a-8a9d-48636731ed79",
   "metadata": {},
   "outputs": [
    {
     "data": {
      "text/plain": [
       "True"
      ]
     },
     "execution_count": 4,
     "metadata": {},
     "output_type": "execute_result"
    }
   ],
   "source": [
    "html.tostring(html.fromstring(prepare(body)), encoding='unicode') == html.tostring(json2lxml(lxml2json(body)), encoding='unicode')"
   ]
  },
  {
   "cell_type": "code",
   "execution_count": null,
   "id": "afbb4533-17ec-4bc6-a95b-6aee93b81187",
   "metadata": {},
   "outputs": [],
   "source": [
    "l.xpath('//a[@href=\"/nf/\"]')[0].text"
   ]
  },
  {
   "cell_type": "code",
   "execution_count": null,
   "id": "93ff4d51-1be3-43a9-bef1-f3c6566204ef",
   "metadata": {},
   "outputs": [],
   "source": [
    "ll = html.fromstring('<html><body><a href=\"/nf/\">NeuroFap <span style=\"font-size:10px; color:red;\"> (18+)</span></a></body></html>')\n",
    "\n",
    "[*ll.iter()]"
   ]
  },
  {
   "cell_type": "code",
   "execution_count": null,
   "id": "9364e244-6d05-436f-ac7f-0cdbce399e19",
   "metadata": {},
   "outputs": [],
   "source": [
    "html.tostring(ll.xpath('//a')[0])"
   ]
  },
  {
   "cell_type": "code",
   "execution_count": null,
   "id": "35471ab7-7fcd-439f-b9a3-f44e6c749a89",
   "metadata": {},
   "outputs": [],
   "source": [
    "html.tostring(json2lxml(lxml2json(\n",
    "    html.fromstring('<div class=\"tn__item desktop\"><a href=\"/b/\">Назад</a> | <a href=\"#bottom\">Вниз</a> | <a href=\"/b/catalog.html\" class=\"desktop\" target=\"_blank\">Каталог</a> | <a href=\"#\" class=\"js-update-thread\">Обновить</a> | <span class=\"autorefresh tn__refresh js-refresh\"><input type=\"checkbox\" class=\"autorefresh-checkbox js-refresh-checkbox\"> Автообновление <span class=\"autorefresh-countdown js-refresh-count\"></span></span> | <span title=\"Всего постов в треде\"><svg xmlns=\"http://www.w3.org/2000/svg\" class=\"icon\"><use xlink:href=\"#icon__posts\"></use></svg> 32</span><span title=\"Всего файлов в треде\"><svg xmlns=\"http://www.w3.org/2000/svg\" class=\"icon\"><use xlink:href=\"#icon__images\"></use></svg> 3</span><span title=\"Постеры\"><svg xmlns=\"http://www.w3.org/2000/svg\" class=\"icon\"><use xlink:href=\"#icon__users\"></use></svg> 12</span></div>')\n",
    ")), encoding='unicode')"
   ]
  },
  {
   "cell_type": "markdown",
   "id": "b1d12480-02ce-492f-8135-7b4d956da921",
   "metadata": {},
   "source": [
    "```js\n",
    "{\n",
    "    'a href=`/b/` __meta=`{\"pre\": \"\", \"body\": \"Назад\", \"post\": \" | \"}`': {\n",
    "        \n",
    "    }\n",
    "}\n",
    "```"
   ]
  },
  {
   "cell_type": "code",
   "execution_count": null,
   "id": "81f71a1b-db80-4f51-98fb-d54a42f4ce69",
   "metadata": {},
   "outputs": [],
   "source": [
    "html.tostring(json2lxml(lxml2json(\n",
    "    html.fromstring('<div class=\"tn__item desktop\"><a href=\"/b/\">Назад<span>wow</span>sdfsdf</a> | <a href=\"#bottom\">Вниз</a> | <a href=\"/b/catalog.html\" class=\"desktop\" target=\"_blank\">Каталог</a> | <a href=\"#\" class=\"js-update-thread\">Обновить</a> | <span class=\"autorefresh tn__refresh js-refresh\"><input type=\"checkbox\" class=\"autorefresh-checkbox js-refresh-checkbox\"> Автообновление <span class=\"autorefresh-countdown js-refresh-count\"></span></span> | <span title=\"Всего постов в треде\"><svg xmlns=\"http://www.w3.org/2000/svg\" class=\"icon\"><use xlink:href=\"#icon__posts\"></use></svg> 32</span><span title=\"Всего файлов в треде\"><svg xmlns=\"http://www.w3.org/2000/svg\" class=\"icon\"><use xlink:href=\"#icon__images\"></use></svg> 3</span><span title=\"Постеры\"><svg xmlns=\"http://www.w3.org/2000/svg\" class=\"icon\"><use xlink:href=\"#icon__users\"></use></svg> 12</span></div>')\n",
    ")), encoding='unicode')"
   ]
  },
  {
   "cell_type": "code",
   "execution_count": null,
   "id": "f9d79db8-e36b-42fb-a5ab-be5c02e33246",
   "metadata": {},
   "outputs": [],
   "source": [
    "html.tostring(html.fromstring('<div class=\"tn__item desktop\"><a href=\"/b/\">Назад</a> | <a href=\"#bottom\">Вниз</a> | <a href=\"/b/catalog.html\" class=\"desktop\" target=\"_blank\">Каталог</a> | <a href=\"#\" class=\"js-update-thread\">Обновить</a> | <span class=\"autorefresh tn__refresh js-refresh\"><input type=\"checkbox\" class=\"autorefresh-checkbox js-refresh-checkbox\"> Автообновление <span class=\"autorefresh-countdown js-refresh-count\"></span></span> | <span title=\"Всего постов в треде\"><svg xmlns=\"http://www.w3.org/2000/svg\" class=\"icon\"><use xlink:href=\"#icon__posts\"></use></svg> 32</span><span title=\"Всего файлов в треде\"><svg xmlns=\"http://www.w3.org/2000/svg\" class=\"icon\"><use xlink:href=\"#icon__images\"></use></svg> 3</span><span title=\"Постеры\"><svg xmlns=\"http://www.w3.org/2000/svg\" class=\"icon\"><use xlink:href=\"#icon__users\"></use></svg> 12</span></div>'), encoding='unicode')"
   ]
  },
  {
   "cell_type": "code",
   "execution_count": null,
   "id": "314a6da7-53f5-4fee-9719-be756c01e019",
   "metadata": {},
   "outputs": [],
   "source": [
    "html.fromstring(\n",
    "    '<html><div class=\"tn__item desktop\"><a href=\"/b/\">Назад</a> | <a href=\"#bottom\">Вниз</a> | <a href=\"/b/catalog.html\" class=\"desktop\" target=\"_blank\">Каталог</a> | <a href=\"#\" class=\"js-update-thread\">Обновить</a> | <span class=\"autorefresh tn__refresh js-refresh\"><input type=\"checkbox\" class=\"autorefresh-checkbox js-refresh-checkbox\"> Автообновление <span class=\"autorefresh-countdown js-refresh-count\"></span></span> | <span title=\"Всего постов в треде\"><svg xmlns=\"http://www.w3.org/2000/svg\" class=\"icon\"><use xlink:href=\"#icon__posts\"></use></svg> 32</span><span title=\"Всего файлов в треде\"><svg xmlns=\"http://www.w3.org/2000/svg\" class=\"icon\"><use xlink:href=\"#icon__images\"></use></svg> 3</span><span title=\"Постеры\"><svg xmlns=\"http://www.w3.org/2000/svg\" class=\"icon\"><use xlink:href=\"#icon__users\"></use></svg> 12</span></div></html>'\n",
    ").getchildren()[0].getchildren()[0].getchildren()[0].tail"
   ]
  },
  {
   "cell_type": "code",
   "execution_count": null,
   "id": "08906b19-388c-4ba2-b21c-63d841b64bc0",
   "metadata": {},
   "outputs": [],
   "source": [
    "import re\n",
    "\n",
    "re.sub(r'\\_\\_[^ =]+\\=\\`[^\\`]*\\`', '', 'div class=`tn__item desktop` __prefix=`` __text=`` __tail=``')"
   ]
  },
  {
   "cell_type": "markdown",
   "id": "9ef5f026-8490-41b3-90d3-da4ec2388b97",
   "metadata": {},
   "source": [
    "# Delta"
   ]
  },
  {
   "cell_type": "code",
   "execution_count": 1,
   "id": "51ef6d14-350b-486c-8795-51c3f4e2629e",
   "metadata": {},
   "outputs": [],
   "source": [
    "from lxml import html\n",
    "from diff4html.diff import diff, HtmlDict, apply_diff, find"
   ]
  },
  {
   "cell_type": "code",
   "execution_count": null,
   "id": "c0af1d1d-67de-4059-9648-a2c9a741b3f3",
   "metadata": {},
   "outputs": [],
   "source": []
  },
  {
   "cell_type": "code",
   "execution_count": 1,
   "id": "a06a4e22-51dc-4b37-8e22-c4df1324a525",
   "metadata": {},
   "outputs": [
    {
     "data": {
      "text/plain": [
       "False"
      ]
     },
     "execution_count": 1,
     "metadata": {},
     "output_type": "execute_result"
    }
   ],
   "source": [
    "from lxml import html\n",
    "from diff4html.diff import diff, HtmlDict, apply_diff, find\n",
    "\n",
    "page_1 = HtmlDict(\"\"\"\n",
    "<html>\n",
    "<head>\n",
    "    <title>Example Domain</title>\n",
    "\n",
    "    <meta charset=\"utf-8\">\n",
    "    <meta http-equiv=\"Content-type\" content=\"text/html; charset=utf-8\">\n",
    "    <meta name=\"viewport\" content=\"width=device-width, initial-scale=1\">\n",
    "    <style type=\"text/css\">\n",
    "    body {\n",
    "        background-color: #f0f0f2;\n",
    "        margin: 0;\n",
    "        padding: 0;\n",
    "        font-family: -apple-system, system-ui, BlinkMacSystemFont, \"Segoe UI\", \"Open Sans\", \"Helvetica Neue\", Helvetica, Arial, sans-serif;\n",
    "        \n",
    "    }\n",
    "    div {\n",
    "        width: 600px;\n",
    "        margin: 5em auto;\n",
    "        padding: 2em;\n",
    "        background-color: #fdfdff;\n",
    "        border-radius: 0.5em;\n",
    "        box-shadow: 2px 3px 7px 2px rgba(0,0,0,0.02);\n",
    "    }\n",
    "    a:link, a:visited {\n",
    "        color: #38488f;\n",
    "        text-decoration: none;\n",
    "    }\n",
    "    @media (max-width: 700px) {\n",
    "        div {\n",
    "            margin: 0 auto;\n",
    "            width: auto;\n",
    "        }\n",
    "    }\n",
    "    </style>    \n",
    "    \n",
    "</head>\n",
    "<body>\n",
    "<div>\n",
    "    <h1>Example Domain</h1>\n",
    "    <p>This domain is for use in illustrative examples in documents. You may use this\n",
    "    domain in literature without prior coordination or asking for permission.</p>\n",
    "    <p><a href=\"https://www.iana.org/domains/example\">More information...</a></p>\n",
    "</div>\n",
    "</body>\n",
    "</html>\n",
    "\"\"\")\n",
    "page_2 = HtmlDict(\"\"\"\n",
    "<html>\n",
    "    <head>\n",
    "        <title>Example Domain</title>\n",
    "        <!-- NOTICE: missing meta & styles here -->\n",
    "    </head>\n",
    "    <body>\n",
    "        <div>\n",
    "            <h1>Example Domain modified</hi> <!-- NOTICE: changed text-->\n",
    "            <!-- NOTICE: missing rest -->\n",
    "        </div>\n",
    "    </body>\n",
    "</html>\n",
    "\"\"\")\n",
    "page_1 == page_2"
   ]
  },
  {
   "cell_type": "code",
   "execution_count": null,
   "id": "f3bc4f7a-16f5-4a6d-aef1-446e71522ff3",
   "metadata": {},
   "outputs": [],
   "source": []
  },
  {
   "cell_type": "code",
   "execution_count": 34,
   "id": "89a26a42-1d8d-4471-8831-70058692a798",
   "metadata": {},
   "outputs": [
    {
     "data": {
      "text/plain": [
       "'\"meta charset=`utf-8` __prefix__=`` __text__=`` __tail__=``\": null'"
      ]
     },
     "execution_count": 34,
     "metadata": {},
     "output_type": "execute_result"
    }
   ],
   "source": [
    "_range = find(page_1.data, page_1.data[\n",
    "    'html __prefix__=`` __text__=`` __tail__=``'\n",
    "][\n",
    "    'head __prefix__=`` __text__=`` __tail__=``'\n",
    "], '{\"meta charset=`utf-8` __prefix__=`` __text__=`` __tail__=``\": null}')\n",
    "json.dumps(page_1.data, ensure_ascii=False)[_range[0]:_range[0]+_range[1]]"
   ]
  },
  {
   "cell_type": "code",
   "execution_count": 35,
   "id": "39bda11d-f9ab-49e2-96f1-df73723c9ad8",
   "metadata": {},
   "outputs": [
    {
     "data": {
      "text/plain": [
       "'null'"
      ]
     },
     "execution_count": 35,
     "metadata": {},
     "output_type": "execute_result"
    }
   ],
   "source": [
    "_range = find(page_1.data, page_1.data[\n",
    "    'html __prefix__=`` __text__=`` __tail__=``'\n",
    "][\n",
    "    'head __prefix__=`` __text__=`` __tail__=``'\n",
    "], \"meta charset=`utf-8` __prefix__=`` __text__=`` __tail__=``\")\n",
    "json.dumps(page_1.data, ensure_ascii=False)[_range[0]:_range[0]+_range[1]]"
   ]
  },
  {
   "cell_type": "code",
   "execution_count": null,
   "id": "7fa2cdbd-7b53-4758-b98d-6f7464426b03",
   "metadata": {},
   "outputs": [],
   "source": []
  },
  {
   "cell_type": "code",
   "execution_count": 2,
   "id": "78d1f7a8-10ed-41e1-8c08-04c14387a891",
   "metadata": {},
   "outputs": [
    {
     "name": "stdout",
     "output_type": "stream",
     "text": [
      "[None, '']\n",
      "[None, '']\n",
      "[None, '']\n",
      "[None, '']\n",
      "[None, '']\n",
      "[None, {'a href=`https://www.iana.org/domains/example` __prefix__=`` __text__=`More information...` __tail__=``': None}]\n"
     ]
    },
    {
     "data": {
      "text/plain": [
       "HtmlDict({\"html __prefix__=`` __text__=`` __tail__=``\": {\"head __prefix__=`` __text__=`` __tail__=``\": {\"title __prefix__=`` __text__=`Example Domain` __tail__=``\": null}, \"body __prefix__=`` __text__=`` __tail__=``\": {\"div __prefix__=`` __text__=`` __tail__=``\": {\"h1 __prefix__=`` __text__=`Example Domain modified` __tail__=``\": null}}}})"
      ]
     },
     "execution_count": 2,
     "metadata": {},
     "output_type": "execute_result"
    }
   ],
   "source": [
    "(page_1 + (page_2 - page_1))"
   ]
  },
  {
   "cell_type": "code",
   "execution_count": 5,
   "id": "e59b05cb-6282-4b6e-a9ec-bcd68b9e1b80",
   "metadata": {},
   "outputs": [
    {
     "data": {
      "text/plain": [
       "'{\"html __prefix__=`` __text__=`` __tail__=``\": {\"head __prefix__=`` __text__=`` __tail__=``\": {\"title __prefix__=`` __text__=`Example Domain` __tail__=``\": null}, \"body __prefix__=`` __text__=`` __tail__=``\": {\"div __prefix__=`` __text__=`` __tail__=``\": {\"h1 __prefix__=`` __text__=`Example Domain modified` __tail__=``\": null}}}}'"
      ]
     },
     "execution_count": 5,
     "metadata": {},
     "output_type": "execute_result"
    }
   ],
   "source": [
    "import json\n",
    "json.dumps(page_2.data, ensure_ascii=False)"
   ]
  },
  {
   "cell_type": "code",
   "execution_count": 2,
   "id": "76de8e76-9efe-4971-b07b-c2bf0e8c94a6",
   "metadata": {},
   "outputs": [
    {
     "data": {
      "text/plain": [
       "'{\"html __prefix__=`` __text__=`` __tail__=``\": {\"head __prefix__=`` __text__=`` __tail__=``\": {\"title __prefix__=`` __text__=`Example Domain` __tail__=``\": null, \"meta charset=`utf-8` __prefix__=`` __text__=`` __tail__=``\": null, \"meta http-equiv=`Content-type` content=`text/html; charset=utf-8` __prefix__=`` __text__=`` __tail__=``\": null, \"meta name=`viewport` content=`width=device-width, initial-scale=1` __prefix__=`` __text__=`` __tail__=``\": null, \"style type=`text/css` __prefix__=`` __text__=` body { background-color: #f0f0f2; margin: 0; padding: 0; font-family: -apple-system, system-ui, BlinkMacSystemFont, &quot;Segoe UI&quot;, &quot;Open Sans&quot;, &quot;Helvetica Neue&quot;, Helvetica, Arial, sans-serif; } div { width: 600px; margin: 5em auto; padding: 2em; background-color: #fdfdff; border-radius: 0.5em; box-shadow: 2px 3px 7px 2px rgba(0,0,0,0.02); } a:link, a:visited { color: #38488f; text-decoration: none; } @media (max-width: 700px) { div { margin: 0 auto; width: auto; } } ` __tail__=``\": null}, \"body __prefix__=`` __text__=`` __tail__=``\": {\"div __prefix__=`` __text__=`` __tail__=``\": {\"h1 __prefix__=`` __text__=`Example Domain` __tail__=``\": null, \"p __prefix__=`` __text__=`This domain is for use in illustrative examples in documents. You may use this domain in literature without prior coordination or asking for permission.` __tail__=``\": null, \"p __prefix__=`` __text__=`` __tail__=``\": {\"a href=`https://www.iana.org/domains/example` __prefix__=`` __text__=`More information...` __tail__=``\": null}}}}}'"
      ]
     },
     "execution_count": 2,
     "metadata": {},
     "output_type": "execute_result"
    }
   ],
   "source": [
    "apply_diff(page_2, (page_1 - page_2))"
   ]
  },
  {
   "cell_type": "code",
   "execution_count": 3,
   "id": "71dd4801-e5bd-4a0e-b262-f13e314ce6f7",
   "metadata": {},
   "outputs": [
    {
     "data": {
      "text/plain": [
       "'{\"html __prefix__=`` __text__=`` __tail__=``\": {\"head __prefix__=`` __text__=`` __tail__=``\": {\"title __prefix__=`` __text__=`Example Domain` __tail__=``\": null, \"meta charset=`utf-8` __prefix__=`` __text__=`` __tail__=``\": null, \"meta http-equiv=`Content-type` content=`text/html; charset=utf-8` __prefix__=`` __text__=`` __tail__=``\": null, \"meta name=`viewport` content=`width=device-width, initial-scale=1` __prefix__=`` __text__=`` __tail__=``\": null, \"style type=`text/css` __prefix__=`` __text__=` body { background-color: #f0f0f2; margin: 0; padding: 0; font-family: -apple-system, system-ui, BlinkMacSystemFont, &quot;Segoe UI&quot;, &quot;Open Sans&quot;, &quot;Helvetica Neue&quot;, Helvetica, Arial, sans-serif; } div { width: 600px; margin: 5em auto; padding: 2em; background-color: #fdfdff; border-radius: 0.5em; box-shadow: 2px 3px 7px 2px rgba(0,0,0,0.02); } a:link, a:visited { color: #38488f; text-decoration: none; } @media (max-width: 700px) { div { margin: 0 auto; width: auto; } } ` __tail__=``\": null}, \"body __prefix__=`` __text__=`` __tail__=``\": {\"div __prefix__=`` __text__=`` __tail__=``\": {\"h1 __prefix__=`` __text__=`Example Domain` __tail__=``\": null, \"p __prefix__=`` __text__=`This domain is for use in illustrative examples in documents. You may use this domain in literature without prior coordination or asking for permission.` __tail__=``\": null, \"p __prefix__=`` __text__=`` __tail__=``\": {\"a href=`https://www.iana.org/domains/example` __prefix__=`` __text__=`More information...` __tail__=``\": null}}}}}'"
      ]
     },
     "execution_count": 3,
     "metadata": {},
     "output_type": "execute_result"
    }
   ],
   "source": [
    "str(page_1)"
   ]
  },
  {
   "cell_type": "code",
   "execution_count": 8,
   "id": "81a3485a-e6a2-4923-b070-f88e3f08dfaa",
   "metadata": {},
   "outputs": [
    {
     "data": {
      "text/plain": [
       "[(160,\n",
       "  160,\n",
       "  None,\n",
       "  '{\"meta charset=`utf-8` __prefix__=`` __text__=`` __tail__=``\": null}'),\n",
       " (160,\n",
       "  160,\n",
       "  None,\n",
       "  '{\"meta http-equiv=`Content-type` content=`text/html; charset=utf-8` __prefix__=`` __text__=`` __tail__=``\": null}'),\n",
       " (160,\n",
       "  160,\n",
       "  None,\n",
       "  '{\"meta name=`viewport` content=`width=device-width, initial-scale=1` __prefix__=`` __text__=`` __tail__=``\": null}'),\n",
       " (160,\n",
       "  160,\n",
       "  None,\n",
       "  '{\"style type=`text/css` __prefix__=`` __text__=` body { background-color: #f0f0f2; margin: 0; padding: 0; font-family: -apple-system, system-ui, BlinkMacSystemFont, &quot;Segoe UI&quot;, &quot;Open Sans&quot;, &quot;Helvetica Neue&quot;, Helvetica, Arial, sans-serif; } div { width: 600px; margin: 5em auto; padding: 2em; background-color: #fdfdff; border-radius: 0.5em; box-shadow: 2px 3px 7px 2px rgba(0,0,0,0.02); } a:link, a:visited { color: #38488f; text-decoration: none; } @media (max-width: 700px) { div { margin: 0 auto; width: auto; } } ` __tail__=``\": null}'),\n",
       " (256,\n",
       "  327,\n",
       "  '\"h1 __prefix__=`` __text__=`Example Domain modified` __tail__=``\": null',\n",
       "  '\"h1 __prefix__=`` __text__=`Example Domain` __tail__=``\": null'),\n",
       " (327,\n",
       "  327,\n",
       "  None,\n",
       "  '{\"p __prefix__=`` __text__=`This domain is for use in illustrative examples in documents. You may use this domain in literature without prior coordination or asking for permission.` __tail__=``\": null}'),\n",
       " (327,\n",
       "  327,\n",
       "  None,\n",
       "  '{\"p __prefix__=`` __text__=`` __tail__=``\": {\"a href=`https://www.iana.org/domains/example` __prefix__=`` __text__=`More information...` __tail__=``\": null}}')]"
      ]
     },
     "execution_count": 8,
     "metadata": {},
     "output_type": "execute_result"
    }
   ],
   "source": [
    "(page_1 - page_2).data"
   ]
  },
  {
   "cell_type": "code",
   "execution_count": 9,
   "id": "9f06dd6c-3bb1-4dad-9bad-85ca1f0002ae",
   "metadata": {},
   "outputs": [
    {
     "data": {
      "text/plain": [
       "C(a=1)"
      ]
     },
     "execution_count": 9,
     "metadata": {},
     "output_type": "execute_result"
    }
   ],
   "source": [
    "n = namedtuple('C', ['a'])\n",
    "n(a=1)"
   ]
  },
  {
   "cell_type": "code",
   "execution_count": 10,
   "id": "dfce5d67-0f8a-416e-9b80-030c1b517e1d",
   "metadata": {},
   "outputs": [
    {
     "data": {
      "text/plain": [
       "PosixPath('/Users/dsp_shp/Developer/diff4html')"
      ]
     },
     "execution_count": 10,
     "metadata": {},
     "output_type": "execute_result"
    }
   ],
   "source": [
    "from pathlib import Path\n",
    "Path('.').absolute()"
   ]
  },
  {
   "cell_type": "code",
   "execution_count": 10,
   "id": "9e98d312-29d3-4221-957f-bda7cbe09b27",
   "metadata": {},
   "outputs": [
    {
     "data": {
      "text/plain": [
       "True"
      ]
     },
     "execution_count": 10,
     "metadata": {},
     "output_type": "execute_result"
    }
   ],
   "source": [
    "page_2 + (page_1 - page_2) == page_1"
   ]
  },
  {
   "cell_type": "code",
   "execution_count": 8,
   "id": "4c6dbddf-c7b7-47fc-9abf-a8c2b2a4e80e",
   "metadata": {},
   "outputs": [
    {
     "data": {
      "text/plain": [
       "HtmlDict({\"html __prefix__=`` __text__=`` __tail__=``\": {\"head __prefix__=`` __text__=`` __tail__=``\": {\"title __prefix__=`` __text__=`Example Domain` __tail__=``\": null, \"meta charset=`utf-8` __prefix__=`` __text__=`` __tail__=``\": null, \"meta http-equiv=`Content-type` content=`text/html; charset=utf-8` __prefix__=`` __text__=`` __tail__=``\": null, \"meta name=`viewport` content=`width=device-width, initial-scale=1` __prefix__=`` __text__=`` __tail__=``\": null, \"style type=`text/css` __prefix__=`` [...])"
      ]
     },
     "execution_count": 8,
     "metadata": {},
     "output_type": "execute_result"
    }
   ],
   "source": [
    "page_1"
   ]
  },
  {
   "cell_type": "code",
   "execution_count": 5,
   "id": "d71d0e53-a6ba-43f0-a91a-42078dd0a5d6",
   "metadata": {},
   "outputs": [],
   "source": [
    "with open('../scraby/.examples/quotes-otsenka-kvartiry-po-adresu-onlayn-prev.html', 'r') as f1, \\\n",
    "     open('../scraby/.examples/quotes-otsenka-kvartiry-po-adresu-onlayn.html', 'r') as f2:\n",
    "    s1 = f1.read()\n",
    "    s2 = f2.read()"
   ]
  },
  {
   "cell_type": "code",
   "execution_count": 2,
   "id": "3308dec5-2c1d-48bc-ade7-20da93890519",
   "metadata": {},
   "outputs": [
    {
     "data": {
      "text/plain": [
       "1329895"
      ]
     },
     "execution_count": 2,
     "metadata": {},
     "output_type": "execute_result"
    }
   ],
   "source": [
    "# %%time\n",
    "from diff4html.html import prepare\n",
    "\n",
    "len(prepare(s1))"
   ]
  },
  {
   "cell_type": "code",
   "execution_count": 9,
   "id": "a96ce069-cc5f-488e-a81d-48e7ef3bafd5",
   "metadata": {},
   "outputs": [
    {
     "data": {
      "text/plain": [
       "True"
      ]
     },
     "execution_count": 9,
     "metadata": {},
     "output_type": "execute_result"
    }
   ],
   "source": [
    "HtmlDict(s1) + (HtmlDict(s2) - HtmlDict(s1)) == HtmlDict(s2)"
   ]
  },
  {
   "cell_type": "code",
   "execution_count": null,
   "id": "a28773d0-3408-4376-b1ee-91f2e681070a",
   "metadata": {},
   "outputs": [],
   "source": []
  }
 ],
 "metadata": {
  "kernelspec": {
   "display_name": "Python 3 (ipykernel)",
   "language": "python",
   "name": "python3"
  },
  "language_info": {
   "codemirror_mode": {
    "name": "ipython",
    "version": 3
   },
   "file_extension": ".py",
   "mimetype": "text/x-python",
   "name": "python",
   "nbconvert_exporter": "python",
   "pygments_lexer": "ipython3",
   "version": "3.11.10"
  }
 },
 "nbformat": 4,
 "nbformat_minor": 5
}
